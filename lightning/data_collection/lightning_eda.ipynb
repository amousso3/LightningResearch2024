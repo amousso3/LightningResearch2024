{
 "cells": [
  {
   "cell_type": "markdown",
   "metadata": {},
   "source": [
    "# Exploratory Data Analysis of GOES - GLM/ABI and ERA5 Data\n",
    "Previous work has enabled me to retrieve and process large volumes of climate data from the three following sources: GOES-GLM, GOES-ABI, and ERA5 environmental variables on single levels and pressure levels. In this notebook, I investigate the quality of this data at the two primary stages of processing, temporal agreggation and spatial downsampling. To do this, I will produce visuals and check for missing data. Next, I will do correlational analysis between the lightning data and the environmental variables. Afterwards, I will check cross correlations between environmental variables. Then, I will investigate the distribution of my data using histograms, heatmaps, and time series analysis."
   ]
  },
  {
   "cell_type": "markdown",
   "metadata": {},
   "source": [
    "We will begin by loading in 1 months worth of data using the retrieve GLM function in data retriever 2."
   ]
  },
  {
   "cell_type": "code",
   "execution_count": 1,
   "metadata": {},
   "outputs": [],
   "source": [
    "# imports\n",
    "from data_retreiver_2 import retrieve_goes_glmf, parallel_interp\n",
    "import xarray as xr\n",
    "import cdsapi\n",
    "import netCDF4 as nc\n",
    "from goes2go import GOES\n",
    "import requests\n",
    "from datetime import datetime, timedelta\n",
    "import os\n",
    "import concurrent.futures\n",
    "from concurrent.futures import ThreadPoolExecutor, as_completed\n",
    "from concurrent.futures import ProcessPoolExecutor, as_completed\n",
    "import numpy as np\n",
    "from numba import njit, prange\n",
    "from scipy.interpolate import griddata\n",
    "from scipy.spatial import cKDTree\n",
    "import multiprocessing\n",
    "import time\n",
    "import dask\n",
    "from dask import delayed, compute\n",
    "\n"
   ]
  },
  {
   "cell_type": "code",
   "execution_count": 6,
   "metadata": {},
   "outputs": [
    {
     "name": "stdout",
     "output_type": "stream",
     "text": [
      "Deleted: OR_GLM-L2-GLMF-M3_G16_e20200425184000.nc\n",
      "Deleted: OR_GLM-L2-GLMF-M3_G16_e20200425181000.nc\n",
      "Deleted: OR_GLM-L2-GLMF-M3_G16_e20200425182500.nc\n",
      "Deleted: OR_GLM-L2-GLMF-M3_G16_e20200425180500.nc\n",
      "Deleted: OR_GLM-L2-GLMF-M3_G16_e20200425183000.nc\n",
      "Deleted: OR_GLM-L2-GLMF-M3_G16_e20200425182000.nc\n",
      "Deleted: OR_GLM-L2-GLMF-M3_G16_e20200425183500.nc\n",
      "Deleted: OR_GLM-L2-GLMF-M3_G16_e20200425181500.nc\n"
     ]
    }
   ],
   "source": [
    "import os, glob\n",
    "for file in glob.glob(\"OR_*\"):\n",
    "    os.remove(file)\n",
    "    print(f\"Deleted: {file}\")\n"
   ]
  },
  {
   "cell_type": "code",
   "execution_count": 3,
   "metadata": {},
   "outputs": [
    {
     "name": "stdout",
     "output_type": "stream",
     "text": [
      "Processing: 2020-04-01\n"
     ]
    },
    {
     "name": "stdout",
     "output_type": "stream",
     "text": [
      "Processing files for year 2020, day 92, hour 1Processing files for year 2020, day 92, hour 0Processing files for year 2020, day 92, hour 3Processing files for year 2020, day 92, hour 2\n",
      "\n",
      "\n",
      "\n",
      "Processing files for year 2020, day 92, hour 4\n",
      "Processing files for year 2020, day 92, hour 5\n",
      "Processing files for year 2020, day 92, hour 6\n",
      "Processing files for year 2020, day 92, hour 7\n",
      "Processing files for year 2020, day 92, hour 8\n",
      "Processing files for year 2020, day 92, hour 9\n",
      "Processing files for year 2020, day 92, hour 10\n",
      "Processing files for year 2020, day 92, hour 11\n",
      "Processing files for year 2020, day 92, hour 12\n",
      "Processing files for year 2020, day 92, hour 13\n",
      "Processing files for year 2020, day 92, hour 14\n",
      "Processing files for year 2020, day 92, hour 15\n",
      "Processing files for year 2020, day 92, hour 16\n",
      "Processing files for year 2020, day 92, hour 17\n",
      "Processing files for year 2020, day 92, hour 18\n",
      "Processing files for year 2020, day 92, hour 19\n",
      "Processing files for year 2020, day 92, hour 20\n",
      "Processing files for year 2020, day 92, hour 21\n",
      "Processing files for year 2020, day 92, hour 22\n",
      "Processing files for year 2020, day 92, hour 23\n"
     ]
    },
    {
     "name": "stderr",
     "output_type": "stream",
     "text": [
      "/gpfs/fs1/home/o/oneill/mamous3/lightning/data_collection/data_retreiver_2.py:325: SerializationWarning: saving variable x with floating point data as an integer dtype without any _FillValue to use for NaNs\n",
      "  combined_fed.to_netcdf(output_file)\n",
      "/gpfs/fs1/home/o/oneill/mamous3/lightning/data_collection/data_retreiver_2.py:325: SerializationWarning: saving variable y with floating point data as an integer dtype without any _FillValue to use for NaNs\n",
      "  combined_fed.to_netcdf(output_file)\n"
     ]
    },
    {
     "name": "stdout",
     "output_type": "stream",
     "text": [
      "Saved 24-hour FED data to April2020/FED_Window_20200401.nc\n",
      "Faulty links have been saved to faulty_links.txt\n",
      "Processing: 2020-04-02\n",
      "Processing files for year 2020, day 93, hour 0Processing files for year 2020, day 93, hour 1Processing files for year 2020, day 93, hour 2Processing files for year 2020, day 93, hour 3\n",
      "\n",
      "\n",
      "\n",
      "Processing files for year 2020, day 93, hour 4\n",
      "Processing files for year 2020, day 93, hour 5\n",
      "Processing files for year 2020, day 93, hour 6\n",
      "Processing files for year 2020, day 93, hour 7\n",
      "Processing files for year 2020, day 93, hour 8\n",
      "Processing files for year 2020, day 93, hour 9\n",
      "Processing files for year 2020, day 93, hour 10\n",
      "Processing files for year 2020, day 93, hour 11\n",
      "Processing files for year 2020, day 93, hour 12\n",
      "Processing files for year 2020, day 93, hour 13\n",
      "Processing files for year 2020, day 93, hour 14\n",
      "Processing files for year 2020, day 93, hour 15\n",
      "Processing files for year 2020, day 93, hour 16\n",
      "Processing files for year 2020, day 93, hour 17\n",
      "Processing files for year 2020, day 93, hour 18\n",
      "Processing files for year 2020, day 93, hour 19\n",
      "Processing files for year 2020, day 93, hour 20\n",
      "Processing files for year 2020, day 93, hour 21\n",
      "Processing files for year 2020, day 93, hour 22\n",
      "Processing files for year 2020, day 93, hour 23\n"
     ]
    },
    {
     "name": "stderr",
     "output_type": "stream",
     "text": [
      "/gpfs/fs1/home/o/oneill/mamous3/lightning/data_collection/data_retreiver_2.py:325: SerializationWarning: saving variable x with floating point data as an integer dtype without any _FillValue to use for NaNs\n",
      "  combined_fed.to_netcdf(output_file)\n",
      "/gpfs/fs1/home/o/oneill/mamous3/lightning/data_collection/data_retreiver_2.py:325: SerializationWarning: saving variable y with floating point data as an integer dtype without any _FillValue to use for NaNs\n",
      "  combined_fed.to_netcdf(output_file)\n"
     ]
    },
    {
     "name": "stdout",
     "output_type": "stream",
     "text": [
      "Saved 24-hour FED data to April2020/FED_Window_20200402.nc\n",
      "Faulty links have been saved to faulty_links.txt\n",
      "Processing: 2020-04-03\n",
      "Processing files for year 2020, day 94, hour 0Processing files for year 2020, day 94, hour 1Processing files for year 2020, day 94, hour 2Processing files for year 2020, day 94, hour 3\n",
      "\n",
      "\n",
      "\n",
      "Processing files for year 2020, day 94, hour 4\n",
      "Processing files for year 2020, day 94, hour 5\n",
      "Processing files for year 2020, day 94, hour 6\n",
      "Processing files for year 2020, day 94, hour 7\n",
      "Processing files for year 2020, day 94, hour 8\n",
      "Processing files for year 2020, day 94, hour 9\n",
      "Processing files for year 2020, day 94, hour 10\n",
      "Processing files for year 2020, day 94, hour 11\n",
      "Processing files for year 2020, day 94, hour 12\n",
      "Processing files for year 2020, day 94, hour 13\n",
      "Processing files for year 2020, day 94, hour 14\n",
      "Processing files for year 2020, day 94, hour 15\n",
      "Processing files for year 2020, day 94, hour 16\n",
      "Processing files for year 2020, day 94, hour 17\n",
      "Processing files for year 2020, day 94, hour 18\n",
      "Processing files for year 2020, day 94, hour 19\n",
      "Processing files for year 2020, day 94, hour 20\n",
      "Processing files for year 2020, day 94, hour 21\n",
      "Processing files for year 2020, day 94, hour 22\n",
      "Processing files for year 2020, day 94, hour 23\n"
     ]
    },
    {
     "name": "stderr",
     "output_type": "stream",
     "text": [
      "/gpfs/fs1/home/o/oneill/mamous3/lightning/data_collection/data_retreiver_2.py:325: SerializationWarning: saving variable x with floating point data as an integer dtype without any _FillValue to use for NaNs\n",
      "  combined_fed.to_netcdf(output_file)\n",
      "/gpfs/fs1/home/o/oneill/mamous3/lightning/data_collection/data_retreiver_2.py:325: SerializationWarning: saving variable y with floating point data as an integer dtype without any _FillValue to use for NaNs\n",
      "  combined_fed.to_netcdf(output_file)\n"
     ]
    },
    {
     "name": "stdout",
     "output_type": "stream",
     "text": [
      "Saved 24-hour FED data to April2020/FED_Window_20200403.nc\n",
      "Faulty links have been saved to faulty_links.txt\n",
      "Processing: 2020-04-04\n",
      "Processing files for year 2020, day 95, hour 0Processing files for year 2020, day 95, hour 1Processing files for year 2020, day 95, hour 2Processing files for year 2020, day 95, hour 3\n",
      "\n",
      "\n",
      "\n",
      "Processing files for year 2020, day 95, hour 4\n",
      "Processing files for year 2020, day 95, hour 5\n",
      "Processing files for year 2020, day 95, hour 6\n",
      "Processing files for year 2020, day 95, hour 7\n",
      "Processing files for year 2020, day 95, hour 8\n",
      "Processing files for year 2020, day 95, hour 9\n",
      "Processing files for year 2020, day 95, hour 10\n",
      "Processing files for year 2020, day 95, hour 11\n",
      "Processing files for year 2020, day 95, hour 12\n",
      "Processing files for year 2020, day 95, hour 13\n",
      "Processing files for year 2020, day 95, hour 14\n",
      "Processing files for year 2020, day 95, hour 15\n",
      "Processing files for year 2020, day 95, hour 16\n",
      "Processing files for year 2020, day 95, hour 17\n",
      "Processing files for year 2020, day 95, hour 18\n",
      "Processing files for year 2020, day 95, hour 19\n",
      "Processing files for year 2020, day 95, hour 20\n",
      "Processing files for year 2020, day 95, hour 21\n",
      "Processing files for year 2020, day 95, hour 22\n",
      "Processing files for year 2020, day 95, hour 23\n"
     ]
    },
    {
     "name": "stderr",
     "output_type": "stream",
     "text": [
      "/gpfs/fs1/home/o/oneill/mamous3/lightning/data_collection/data_retreiver_2.py:325: SerializationWarning: saving variable x with floating point data as an integer dtype without any _FillValue to use for NaNs\n",
      "  combined_fed.to_netcdf(output_file)\n",
      "/gpfs/fs1/home/o/oneill/mamous3/lightning/data_collection/data_retreiver_2.py:325: SerializationWarning: saving variable y with floating point data as an integer dtype without any _FillValue to use for NaNs\n",
      "  combined_fed.to_netcdf(output_file)\n"
     ]
    },
    {
     "name": "stdout",
     "output_type": "stream",
     "text": [
      "Saved 24-hour FED data to April2020/FED_Window_20200404.nc\n",
      "Faulty links have been saved to faulty_links.txt\n",
      "Processing: 2020-04-05\n",
      "Processing files for year 2020, day 96, hour 0Processing files for year 2020, day 96, hour 3Processing files for year 2020, day 96, hour 2Processing files for year 2020, day 96, hour 1\n",
      "\n",
      "\n",
      "\n",
      "Processing files for year 2020, day 96, hour 4\n",
      "Processing files for year 2020, day 96, hour 5\n",
      "Processing files for year 2020, day 96, hour 6\n",
      "Processing files for year 2020, day 96, hour 7\n",
      "Processing files for year 2020, day 96, hour 8\n",
      "Processing files for year 2020, day 96, hour 9\n",
      "Processing files for year 2020, day 96, hour 10\n",
      "Processing files for year 2020, day 96, hour 11\n",
      "Processing files for year 2020, day 96, hour 12\n",
      "Processing files for year 2020, day 96, hour 13\n",
      "Processing files for year 2020, day 96, hour 14\n",
      "Processing files for year 2020, day 96, hour 15\n",
      "Processing files for year 2020, day 96, hour 16\n",
      "Processing files for year 2020, day 96, hour 17\n",
      "Processing files for year 2020, day 96, hour 18\n",
      "Processing files for year 2020, day 96, hour 19\n",
      "Processing files for year 2020, day 96, hour 20\n",
      "Processing files for year 2020, day 96, hour 21\n",
      "Processing files for year 2020, day 96, hour 22\n",
      "Processing files for year 2020, day 96, hour 23\n"
     ]
    },
    {
     "name": "stderr",
     "output_type": "stream",
     "text": [
      "/gpfs/fs1/home/o/oneill/mamous3/lightning/data_collection/data_retreiver_2.py:325: SerializationWarning: saving variable x with floating point data as an integer dtype without any _FillValue to use for NaNs\n",
      "  combined_fed.to_netcdf(output_file)\n",
      "/gpfs/fs1/home/o/oneill/mamous3/lightning/data_collection/data_retreiver_2.py:325: SerializationWarning: saving variable y with floating point data as an integer dtype without any _FillValue to use for NaNs\n",
      "  combined_fed.to_netcdf(output_file)\n"
     ]
    },
    {
     "name": "stdout",
     "output_type": "stream",
     "text": [
      "Saved 24-hour FED data to April2020/FED_Window_20200405.nc\n",
      "Faulty links have been saved to faulty_links.txt\n",
      "Processing: 2020-04-06\n",
      "Processing files for year 2020, day 97, hour 1Processing files for year 2020, day 97, hour 0Processing files for year 2020, day 97, hour 3Processing files for year 2020, day 97, hour 2\n",
      "\n",
      "\n",
      "\n",
      "Processing files for year 2020, day 97, hour 4\n",
      "Processing files for year 2020, day 97, hour 5\n",
      "Processing files for year 2020, day 97, hour 6\n",
      "Processing files for year 2020, day 97, hour 7\n",
      "Processing files for year 2020, day 97, hour 8\n",
      "Processing files for year 2020, day 97, hour 9\n",
      "Processing files for year 2020, day 97, hour 10\n",
      "Processing files for year 2020, day 97, hour 11\n",
      "Processing files for year 2020, day 97, hour 12\n",
      "Processing files for year 2020, day 97, hour 13\n",
      "Processing files for year 2020, day 97, hour 14\n",
      "Processing files for year 2020, day 97, hour 15\n",
      "Processing files for year 2020, day 97, hour 16\n",
      "Processing files for year 2020, day 97, hour 17\n",
      "Processing files for year 2020, day 97, hour 18\n",
      "Processing files for year 2020, day 97, hour 19\n",
      "Processing files for year 2020, day 97, hour 20\n",
      "Processing files for year 2020, day 97, hour 21\n",
      "Processing files for year 2020, day 97, hour 22\n",
      "Processing files for year 2020, day 97, hour 23\n"
     ]
    },
    {
     "name": "stderr",
     "output_type": "stream",
     "text": [
      "/gpfs/fs1/home/o/oneill/mamous3/lightning/data_collection/data_retreiver_2.py:325: SerializationWarning: saving variable x with floating point data as an integer dtype without any _FillValue to use for NaNs\n",
      "  combined_fed.to_netcdf(output_file)\n",
      "/gpfs/fs1/home/o/oneill/mamous3/lightning/data_collection/data_retreiver_2.py:325: SerializationWarning: saving variable y with floating point data as an integer dtype without any _FillValue to use for NaNs\n",
      "  combined_fed.to_netcdf(output_file)\n"
     ]
    },
    {
     "name": "stdout",
     "output_type": "stream",
     "text": [
      "Saved 24-hour FED data to April2020/FED_Window_20200406.nc\n",
      "Faulty links have been saved to faulty_links.txt\n",
      "Processing: 2020-04-07\n",
      "Processing files for year 2020, day 98, hour 0Processing files for year 2020, day 98, hour 3Processing files for year 2020, day 98, hour 1Processing files for year 2020, day 98, hour 2\n",
      "\n",
      "\n",
      "\n",
      "Processing files for year 2020, day 98, hour 4\n",
      "Processing files for year 2020, day 98, hour 5\n",
      "Processing files for year 2020, day 98, hour 6\n",
      "Processing files for year 2020, day 98, hour 7\n",
      "Processing files for year 2020, day 98, hour 8\n",
      "Processing files for year 2020, day 98, hour 9\n",
      "Processing files for year 2020, day 98, hour 10\n",
      "Processing files for year 2020, day 98, hour 11\n",
      "Processing files for year 2020, day 98, hour 12\n",
      "Processing files for year 2020, day 98, hour 13\n",
      "Processing files for year 2020, day 98, hour 14\n",
      "Processing files for year 2020, day 98, hour 15\n",
      "Processing files for year 2020, day 98, hour 16\n",
      "Processing files for year 2020, day 98, hour 17\n",
      "Processing files for year 2020, day 98, hour 18\n",
      "Processing files for year 2020, day 98, hour 19\n",
      "Processing files for year 2020, day 98, hour 20\n",
      "Processing files for year 2020, day 98, hour 21\n",
      "Processing files for year 2020, day 98, hour 22\n",
      "Processing files for year 2020, day 98, hour 23\n"
     ]
    },
    {
     "name": "stderr",
     "output_type": "stream",
     "text": [
      "/gpfs/fs1/home/o/oneill/mamous3/lightning/data_collection/data_retreiver_2.py:325: SerializationWarning: saving variable x with floating point data as an integer dtype without any _FillValue to use for NaNs\n",
      "  combined_fed.to_netcdf(output_file)\n",
      "/gpfs/fs1/home/o/oneill/mamous3/lightning/data_collection/data_retreiver_2.py:325: SerializationWarning: saving variable y with floating point data as an integer dtype without any _FillValue to use for NaNs\n",
      "  combined_fed.to_netcdf(output_file)\n"
     ]
    },
    {
     "name": "stdout",
     "output_type": "stream",
     "text": [
      "Saved 24-hour FED data to April2020/FED_Window_20200407.nc\n",
      "Faulty links have been saved to faulty_links.txt\n",
      "Processing: 2020-04-08\n",
      "Processing files for year 2020, day 99, hour 0Processing files for year 2020, day 99, hour 1Processing files for year 2020, day 99, hour 2Processing files for year 2020, day 99, hour 3\n",
      "\n",
      "\n",
      "\n",
      "Processing files for year 2020, day 99, hour 4\n",
      "Processing files for year 2020, day 99, hour 5\n",
      "Processing files for year 2020, day 99, hour 6\n",
      "Processing files for year 2020, day 99, hour 7\n",
      "Processing files for year 2020, day 99, hour 8\n",
      "Processing files for year 2020, day 99, hour 9\n",
      "Processing files for year 2020, day 99, hour 10\n",
      "Processing files for year 2020, day 99, hour 11\n",
      "Processing files for year 2020, day 99, hour 12\n",
      "Processing files for year 2020, day 99, hour 13\n",
      "Processing files for year 2020, day 99, hour 14\n",
      "Processing files for year 2020, day 99, hour 15\n",
      "Processing files for year 2020, day 99, hour 16\n",
      "Processing files for year 2020, day 99, hour 17\n",
      "Processing files for year 2020, day 99, hour 18\n",
      "Processing files for year 2020, day 99, hour 19\n",
      "Processing files for year 2020, day 99, hour 20\n",
      "Processing files for year 2020, day 99, hour 21\n",
      "Processing files for year 2020, day 99, hour 22\n",
      "Processing files for year 2020, day 99, hour 23\n"
     ]
    },
    {
     "name": "stderr",
     "output_type": "stream",
     "text": [
      "/gpfs/fs1/home/o/oneill/mamous3/lightning/data_collection/data_retreiver_2.py:325: SerializationWarning: saving variable x with floating point data as an integer dtype without any _FillValue to use for NaNs\n",
      "  combined_fed.to_netcdf(output_file)\n",
      "/gpfs/fs1/home/o/oneill/mamous3/lightning/data_collection/data_retreiver_2.py:325: SerializationWarning: saving variable y with floating point data as an integer dtype without any _FillValue to use for NaNs\n",
      "  combined_fed.to_netcdf(output_file)\n"
     ]
    },
    {
     "name": "stdout",
     "output_type": "stream",
     "text": [
      "Saved 24-hour FED data to April2020/FED_Window_20200408.nc\n",
      "Faulty links have been saved to faulty_links.txt\n",
      "Processing: 2020-04-09\n",
      "Processing files for year 2020, day 100, hour 0Processing files for year 2020, day 100, hour 2Processing files for year 2020, day 100, hour 1Processing files for year 2020, day 100, hour 3\n",
      "\n",
      "\n",
      "\n",
      "Processing files for year 2020, day 100, hour 4\n",
      "Processing files for year 2020, day 100, hour 5\n",
      "Processing files for year 2020, day 100, hour 6\n",
      "Processing files for year 2020, day 100, hour 7\n",
      "Processing files for year 2020, day 100, hour 8\n",
      "Processing files for year 2020, day 100, hour 9\n",
      "Processing files for year 2020, day 100, hour 10\n",
      "Processing files for year 2020, day 100, hour 11\n",
      "Processing files for year 2020, day 100, hour 12\n",
      "Processing files for year 2020, day 100, hour 13\n",
      "Processing files for year 2020, day 100, hour 14\n",
      "Processing files for year 2020, day 100, hour 15\n",
      "Processing files for year 2020, day 100, hour 16\n",
      "Processing files for year 2020, day 100, hour 17\n",
      "Processing files for year 2020, day 100, hour 18\n",
      "Processing files for year 2020, day 100, hour 19\n",
      "Processing files for year 2020, day 100, hour 20\n",
      "Processing files for year 2020, day 100, hour 21\n",
      "Processing files for year 2020, day 100, hour 22\n",
      "Processing files for year 2020, day 100, hour 23\n"
     ]
    },
    {
     "name": "stderr",
     "output_type": "stream",
     "text": [
      "/gpfs/fs1/home/o/oneill/mamous3/lightning/data_collection/data_retreiver_2.py:325: SerializationWarning: saving variable x with floating point data as an integer dtype without any _FillValue to use for NaNs\n",
      "  combined_fed.to_netcdf(output_file)\n",
      "/gpfs/fs1/home/o/oneill/mamous3/lightning/data_collection/data_retreiver_2.py:325: SerializationWarning: saving variable y with floating point data as an integer dtype without any _FillValue to use for NaNs\n",
      "  combined_fed.to_netcdf(output_file)\n"
     ]
    },
    {
     "name": "stdout",
     "output_type": "stream",
     "text": [
      "Saved 24-hour FED data to April2020/FED_Window_20200409.nc\n",
      "Faulty links have been saved to faulty_links.txt\n",
      "Processing: 2020-04-10\n",
      "Processing files for year 2020, day 101, hour 0Processing files for year 2020, day 101, hour 2Processing files for year 2020, day 101, hour 1Processing files for year 2020, day 101, hour 3\n",
      "\n",
      "\n",
      "\n",
      "Processing files for year 2020, day 101, hour 4\n",
      "Processing files for year 2020, day 101, hour 5\n",
      "Processing files for year 2020, day 101, hour 6\n",
      "Processing files for year 2020, day 101, hour 7\n",
      "Processing files for year 2020, day 101, hour 8\n",
      "Processing files for year 2020, day 101, hour 9\n",
      "Processing files for year 2020, day 101, hour 10\n",
      "Processing files for year 2020, day 101, hour 11\n",
      "Processing files for year 2020, day 101, hour 12\n",
      "Processing files for year 2020, day 101, hour 13\n",
      "Processing files for year 2020, day 101, hour 14\n",
      "Processing files for year 2020, day 101, hour 15\n",
      "Processing files for year 2020, day 101, hour 16\n",
      "Processing files for year 2020, day 101, hour 17\n",
      "Processing files for year 2020, day 101, hour 18\n",
      "Processing files for year 2020, day 101, hour 19\n",
      "Processing files for year 2020, day 101, hour 20\n",
      "Processing files for year 2020, day 101, hour 21\n",
      "Processing files for year 2020, day 101, hour 22\n",
      "Processing files for year 2020, day 101, hour 23\n"
     ]
    },
    {
     "name": "stderr",
     "output_type": "stream",
     "text": [
      "/gpfs/fs1/home/o/oneill/mamous3/lightning/data_collection/data_retreiver_2.py:325: SerializationWarning: saving variable x with floating point data as an integer dtype without any _FillValue to use for NaNs\n",
      "  combined_fed.to_netcdf(output_file)\n",
      "/gpfs/fs1/home/o/oneill/mamous3/lightning/data_collection/data_retreiver_2.py:325: SerializationWarning: saving variable y with floating point data as an integer dtype without any _FillValue to use for NaNs\n",
      "  combined_fed.to_netcdf(output_file)\n"
     ]
    },
    {
     "name": "stdout",
     "output_type": "stream",
     "text": [
      "Saved 24-hour FED data to April2020/FED_Window_20200410.nc\n",
      "Faulty links have been saved to faulty_links.txt\n",
      "Processing: 2020-04-11\n",
      "Processing files for year 2020, day 102, hour 0Processing files for year 2020, day 102, hour 1Processing files for year 2020, day 102, hour 2Processing files for year 2020, day 102, hour 3\n",
      "\n",
      "\n",
      "\n",
      "Processing files for year 2020, day 102, hour 4\n",
      "Processing files for year 2020, day 102, hour 5\n",
      "Processing files for year 2020, day 102, hour 6\n",
      "Processing files for year 2020, day 102, hour 7\n",
      "Processing files for year 2020, day 102, hour 8\n",
      "Processing files for year 2020, day 102, hour 9\n",
      "Processing files for year 2020, day 102, hour 10\n",
      "Processing files for year 2020, day 102, hour 11\n",
      "Processing files for year 2020, day 102, hour 12\n",
      "Processing files for year 2020, day 102, hour 13\n",
      "Processing files for year 2020, day 102, hour 14\n",
      "Processing files for year 2020, day 102, hour 15\n",
      "Processing files for year 2020, day 102, hour 16\n",
      "Processing files for year 2020, day 102, hour 17\n",
      "Processing files for year 2020, day 102, hour 18\n",
      "Processing files for year 2020, day 102, hour 19\n",
      "Processing files for year 2020, day 102, hour 20\n",
      "Processing files for year 2020, day 102, hour 21\n",
      "Processing files for year 2020, day 102, hour 22\n",
      "Processing files for year 2020, day 102, hour 23\n"
     ]
    },
    {
     "name": "stderr",
     "output_type": "stream",
     "text": [
      "/gpfs/fs1/home/o/oneill/mamous3/lightning/data_collection/data_retreiver_2.py:325: SerializationWarning: saving variable x with floating point data as an integer dtype without any _FillValue to use for NaNs\n",
      "  combined_fed.to_netcdf(output_file)\n",
      "/gpfs/fs1/home/o/oneill/mamous3/lightning/data_collection/data_retreiver_2.py:325: SerializationWarning: saving variable y with floating point data as an integer dtype without any _FillValue to use for NaNs\n",
      "  combined_fed.to_netcdf(output_file)\n"
     ]
    },
    {
     "name": "stdout",
     "output_type": "stream",
     "text": [
      "Saved 24-hour FED data to April2020/FED_Window_20200411.nc\n",
      "Faulty links have been saved to faulty_links.txt\n",
      "Processing: 2020-04-12\n",
      "Processing files for year 2020, day 103, hour 1Processing files for year 2020, day 103, hour 0Processing files for year 2020, day 103, hour 3Processing files for year 2020, day 103, hour 2\n",
      "\n",
      "\n",
      "\n",
      "Processing files for year 2020, day 103, hour 4\n",
      "Processing files for year 2020, day 103, hour 5\n",
      "Processing files for year 2020, day 103, hour 6\n",
      "Processing files for year 2020, day 103, hour 7\n",
      "Processing files for year 2020, day 103, hour 8\n",
      "Processing files for year 2020, day 103, hour 9\n",
      "Processing files for year 2020, day 103, hour 10\n",
      "Processing files for year 2020, day 103, hour 11\n",
      "Processing files for year 2020, day 103, hour 12\n",
      "Processing files for year 2020, day 103, hour 13\n",
      "Processing files for year 2020, day 103, hour 14\n",
      "Processing files for year 2020, day 103, hour 15\n",
      "Processing files for year 2020, day 103, hour 16\n",
      "Processing files for year 2020, day 103, hour 17\n",
      "Processing files for year 2020, day 103, hour 18\n",
      "Processing files for year 2020, day 103, hour 19\n",
      "Processing files for year 2020, day 103, hour 20\n",
      "Processing files for year 2020, day 103, hour 21\n",
      "Processing files for year 2020, day 103, hour 22\n",
      "Processing files for year 2020, day 103, hour 23\n"
     ]
    },
    {
     "name": "stderr",
     "output_type": "stream",
     "text": [
      "/gpfs/fs1/home/o/oneill/mamous3/lightning/data_collection/data_retreiver_2.py:325: SerializationWarning: saving variable x with floating point data as an integer dtype without any _FillValue to use for NaNs\n",
      "  combined_fed.to_netcdf(output_file)\n",
      "/gpfs/fs1/home/o/oneill/mamous3/lightning/data_collection/data_retreiver_2.py:325: SerializationWarning: saving variable y with floating point data as an integer dtype without any _FillValue to use for NaNs\n",
      "  combined_fed.to_netcdf(output_file)\n"
     ]
    },
    {
     "name": "stdout",
     "output_type": "stream",
     "text": [
      "Saved 24-hour FED data to April2020/FED_Window_20200412.nc\n",
      "Faulty links have been saved to faulty_links.txt\n",
      "Processing: 2020-04-13\n",
      "Processing files for year 2020, day 104, hour 0Processing files for year 2020, day 104, hour 3Processing files for year 2020, day 104, hour 2Processing files for year 2020, day 104, hour 1\n",
      "\n",
      "\n",
      "\n",
      "Processing files for year 2020, day 104, hour 4\n",
      "Processing files for year 2020, day 104, hour 5\n",
      "Processing files for year 2020, day 104, hour 6\n",
      "Processing files for year 2020, day 104, hour 7\n",
      "Processing files for year 2020, day 104, hour 8\n",
      "Processing files for year 2020, day 104, hour 9\n",
      "Processing files for year 2020, day 104, hour 10\n",
      "Processing files for year 2020, day 104, hour 11\n",
      "Processing files for year 2020, day 104, hour 12\n",
      "Processing files for year 2020, day 104, hour 13\n",
      "Processing files for year 2020, day 104, hour 14\n",
      "Processing files for year 2020, day 104, hour 15\n",
      "Processing files for year 2020, day 104, hour 16\n",
      "Processing files for year 2020, day 104, hour 17\n",
      "Processing files for year 2020, day 104, hour 18\n",
      "Processing files for year 2020, day 104, hour 19\n",
      "Processing files for year 2020, day 104, hour 20\n",
      "Processing files for year 2020, day 104, hour 21\n",
      "Processing files for year 2020, day 104, hour 22\n",
      "Processing files for year 2020, day 104, hour 23\n"
     ]
    },
    {
     "name": "stderr",
     "output_type": "stream",
     "text": [
      "/gpfs/fs1/home/o/oneill/mamous3/lightning/data_collection/data_retreiver_2.py:325: SerializationWarning: saving variable x with floating point data as an integer dtype without any _FillValue to use for NaNs\n",
      "  combined_fed.to_netcdf(output_file)\n",
      "/gpfs/fs1/home/o/oneill/mamous3/lightning/data_collection/data_retreiver_2.py:325: SerializationWarning: saving variable y with floating point data as an integer dtype without any _FillValue to use for NaNs\n",
      "  combined_fed.to_netcdf(output_file)\n"
     ]
    },
    {
     "name": "stdout",
     "output_type": "stream",
     "text": [
      "Saved 24-hour FED data to April2020/FED_Window_20200413.nc\n",
      "Faulty links have been saved to faulty_links.txt\n",
      "Processing: 2020-04-14\n",
      "Processing files for year 2020, day 105, hour 0Processing files for year 2020, day 105, hour 1Processing files for year 2020, day 105, hour 2Processing files for year 2020, day 105, hour 3\n",
      "\n",
      "\n",
      "\n",
      "Processing files for year 2020, day 105, hour 4\n",
      "Processing files for year 2020, day 105, hour 5\n",
      "Processing files for year 2020, day 105, hour 6\n",
      "Processing files for year 2020, day 105, hour 7\n",
      "Processing files for year 2020, day 105, hour 8\n",
      "Processing files for year 2020, day 105, hour 9\n",
      "Processing files for year 2020, day 105, hour 10\n",
      "Processing files for year 2020, day 105, hour 11\n",
      "Processing files for year 2020, day 105, hour 12\n",
      "Processing files for year 2020, day 105, hour 13\n",
      "Processing files for year 2020, day 105, hour 14\n",
      "Processing files for year 2020, day 105, hour 15\n",
      "Processing files for year 2020, day 105, hour 16\n",
      "Processing files for year 2020, day 105, hour 17\n",
      "Processing files for year 2020, day 105, hour 18\n",
      "Processing files for year 2020, day 105, hour 19\n",
      "Processing files for year 2020, day 105, hour 20\n",
      "Processing files for year 2020, day 105, hour 21\n",
      "Processing files for year 2020, day 105, hour 22\n",
      "Processing files for year 2020, day 105, hour 23\n"
     ]
    },
    {
     "name": "stderr",
     "output_type": "stream",
     "text": [
      "/gpfs/fs1/home/o/oneill/mamous3/lightning/data_collection/data_retreiver_2.py:325: SerializationWarning: saving variable x with floating point data as an integer dtype without any _FillValue to use for NaNs\n",
      "  combined_fed.to_netcdf(output_file)\n",
      "/gpfs/fs1/home/o/oneill/mamous3/lightning/data_collection/data_retreiver_2.py:325: SerializationWarning: saving variable y with floating point data as an integer dtype without any _FillValue to use for NaNs\n",
      "  combined_fed.to_netcdf(output_file)\n"
     ]
    },
    {
     "name": "stdout",
     "output_type": "stream",
     "text": [
      "Saved 24-hour FED data to April2020/FED_Window_20200414.nc\n",
      "Faulty links have been saved to faulty_links.txt\n",
      "Processing: 2020-04-15\n",
      "Processing files for year 2020, day 106, hour 2Processing files for year 2020, day 106, hour 1Processing files for year 2020, day 106, hour 3\n",
      "\n",
      "\n",
      "Processing files for year 2020, day 106, hour 0\n",
      "Processing files for year 2020, day 106, hour 4\n",
      "Processing files for year 2020, day 106, hour 5\n",
      "Processing files for year 2020, day 106, hour 6\n",
      "Processing files for year 2020, day 106, hour 7\n",
      "Processing files for year 2020, day 106, hour 8\n",
      "Processing files for year 2020, day 106, hour 9\n",
      "Processing files for year 2020, day 106, hour 10\n",
      "Processing files for year 2020, day 106, hour 11\n",
      "Processing files for year 2020, day 106, hour 12\n",
      "Processing files for year 2020, day 106, hour 13\n",
      "Processing files for year 2020, day 106, hour 14\n",
      "Processing files for year 2020, day 106, hour 15\n",
      "Processing files for year 2020, day 106, hour 16\n",
      "Processing files for year 2020, day 106, hour 17\n",
      "Processing files for year 2020, day 106, hour 18\n",
      "Processing files for year 2020, day 106, hour 19\n",
      "Processing files for year 2020, day 106, hour 20\n",
      "Processing files for year 2020, day 106, hour 21\n",
      "Processing files for year 2020, day 106, hour 22\n",
      "Processing files for year 2020, day 106, hour 23\n"
     ]
    },
    {
     "name": "stderr",
     "output_type": "stream",
     "text": [
      "/gpfs/fs1/home/o/oneill/mamous3/lightning/data_collection/data_retreiver_2.py:325: SerializationWarning: saving variable x with floating point data as an integer dtype without any _FillValue to use for NaNs\n",
      "  combined_fed.to_netcdf(output_file)\n",
      "/gpfs/fs1/home/o/oneill/mamous3/lightning/data_collection/data_retreiver_2.py:325: SerializationWarning: saving variable y with floating point data as an integer dtype without any _FillValue to use for NaNs\n",
      "  combined_fed.to_netcdf(output_file)\n"
     ]
    },
    {
     "name": "stdout",
     "output_type": "stream",
     "text": [
      "Saved 24-hour FED data to April2020/FED_Window_20200415.nc\n",
      "Faulty links have been saved to faulty_links.txt\n",
      "Processing: 2020-04-16\n",
      "Processing files for year 2020, day 107, hour 0Processing files for year 2020, day 107, hour 1Processing files for year 2020, day 107, hour 2Processing files for year 2020, day 107, hour 3\n",
      "\n",
      "\n",
      "\n",
      "Processing files for year 2020, day 107, hour 4\n",
      "Processing files for year 2020, day 107, hour 5\n",
      "Processing files for year 2020, day 107, hour 6\n",
      "Processing files for year 2020, day 107, hour 7\n",
      "Processing files for year 2020, day 107, hour 8\n",
      "Processing files for year 2020, day 107, hour 9\n",
      "Processing files for year 2020, day 107, hour 10\n",
      "Processing files for year 2020, day 107, hour 11\n",
      "Processing files for year 2020, day 107, hour 12\n",
      "Processing files for year 2020, day 107, hour 13\n",
      "Processing files for year 2020, day 107, hour 14\n",
      "Processing files for year 2020, day 107, hour 15\n",
      "Processing files for year 2020, day 107, hour 16\n",
      "Processing files for year 2020, day 107, hour 17\n",
      "Processing files for year 2020, day 107, hour 18\n",
      "Processing files for year 2020, day 107, hour 19\n",
      "Processing files for year 2020, day 107, hour 20\n",
      "Processing files for year 2020, day 107, hour 21\n",
      "Processing files for year 2020, day 107, hour 22\n",
      "Processing files for year 2020, day 107, hour 23\n"
     ]
    },
    {
     "name": "stderr",
     "output_type": "stream",
     "text": [
      "/gpfs/fs1/home/o/oneill/mamous3/lightning/data_collection/data_retreiver_2.py:325: SerializationWarning: saving variable x with floating point data as an integer dtype without any _FillValue to use for NaNs\n",
      "  combined_fed.to_netcdf(output_file)\n",
      "/gpfs/fs1/home/o/oneill/mamous3/lightning/data_collection/data_retreiver_2.py:325: SerializationWarning: saving variable y with floating point data as an integer dtype without any _FillValue to use for NaNs\n",
      "  combined_fed.to_netcdf(output_file)\n"
     ]
    },
    {
     "name": "stdout",
     "output_type": "stream",
     "text": [
      "Saved 24-hour FED data to April2020/FED_Window_20200416.nc\n",
      "Faulty links have been saved to faulty_links.txt\n",
      "Processing: 2020-04-17\n",
      "Processing files for year 2020, day 108, hour 0Processing files for year 2020, day 108, hour 2Processing files for year 2020, day 108, hour 1Processing files for year 2020, day 108, hour 3\n",
      "\n",
      "\n",
      "\n",
      "Processing files for year 2020, day 108, hour 4\n",
      "Processing files for year 2020, day 108, hour 5\n",
      "Processing files for year 2020, day 108, hour 6\n",
      "Processing files for year 2020, day 108, hour 7\n",
      "Processing files for year 2020, day 108, hour 8\n",
      "Processing files for year 2020, day 108, hour 9\n",
      "Processing files for year 2020, day 108, hour 10\n",
      "Processing files for year 2020, day 108, hour 11\n",
      "Processing files for year 2020, day 108, hour 12\n",
      "Processing files for year 2020, day 108, hour 13\n",
      "Processing files for year 2020, day 108, hour 14\n",
      "Processing files for year 2020, day 108, hour 15\n",
      "Processing files for year 2020, day 108, hour 16\n",
      "Processing files for year 2020, day 108, hour 17\n",
      "Processing files for year 2020, day 108, hour 18\n",
      "Processing files for year 2020, day 108, hour 19\n",
      "Processing files for year 2020, day 108, hour 20\n",
      "Processing files for year 2020, day 108, hour 21\n",
      "Processing files for year 2020, day 108, hour 22\n",
      "Processing files for year 2020, day 108, hour 23\n"
     ]
    },
    {
     "name": "stderr",
     "output_type": "stream",
     "text": [
      "/gpfs/fs1/home/o/oneill/mamous3/lightning/data_collection/data_retreiver_2.py:325: SerializationWarning: saving variable x with floating point data as an integer dtype without any _FillValue to use for NaNs\n",
      "  combined_fed.to_netcdf(output_file)\n",
      "/gpfs/fs1/home/o/oneill/mamous3/lightning/data_collection/data_retreiver_2.py:325: SerializationWarning: saving variable y with floating point data as an integer dtype without any _FillValue to use for NaNs\n",
      "  combined_fed.to_netcdf(output_file)\n"
     ]
    },
    {
     "name": "stdout",
     "output_type": "stream",
     "text": [
      "Saved 24-hour FED data to April2020/FED_Window_20200417.nc\n",
      "Faulty links have been saved to faulty_links.txt\n",
      "Processing: 2020-04-18\n",
      "Processing files for year 2020, day 109, hour 1Processing files for year 2020, day 109, hour 0Processing files for year 2020, day 109, hour 3Processing files for year 2020, day 109, hour 2\n",
      "\n",
      "\n",
      "\n",
      "Processing files for year 2020, day 109, hour 4\n",
      "Processing files for year 2020, day 109, hour 5\n",
      "Processing files for year 2020, day 109, hour 6\n",
      "Processing files for year 2020, day 109, hour 7\n",
      "Processing files for year 2020, day 109, hour 8\n",
      "Processing files for year 2020, day 109, hour 9\n",
      "Processing files for year 2020, day 109, hour 10\n",
      "Processing files for year 2020, day 109, hour 11\n",
      "Processing files for year 2020, day 109, hour 12\n",
      "Processing files for year 2020, day 109, hour 13\n",
      "Processing files for year 2020, day 109, hour 14\n",
      "Processing files for year 2020, day 109, hour 15\n",
      "Processing files for year 2020, day 109, hour 16\n",
      "Processing files for year 2020, day 109, hour 17\n",
      "Processing files for year 2020, day 109, hour 18\n",
      "Processing files for year 2020, day 109, hour 19\n",
      "Processing files for year 2020, day 109, hour 20\n",
      "Processing files for year 2020, day 109, hour 21\n",
      "Processing files for year 2020, day 109, hour 22\n",
      "Processing files for year 2020, day 109, hour 23\n"
     ]
    },
    {
     "name": "stderr",
     "output_type": "stream",
     "text": [
      "/gpfs/fs1/home/o/oneill/mamous3/lightning/data_collection/data_retreiver_2.py:325: SerializationWarning: saving variable x with floating point data as an integer dtype without any _FillValue to use for NaNs\n",
      "  combined_fed.to_netcdf(output_file)\n",
      "/gpfs/fs1/home/o/oneill/mamous3/lightning/data_collection/data_retreiver_2.py:325: SerializationWarning: saving variable y with floating point data as an integer dtype without any _FillValue to use for NaNs\n",
      "  combined_fed.to_netcdf(output_file)\n"
     ]
    },
    {
     "name": "stdout",
     "output_type": "stream",
     "text": [
      "Saved 24-hour FED data to April2020/FED_Window_20200418.nc\n",
      "Faulty links have been saved to faulty_links.txt\n",
      "Processing: 2020-04-19\n",
      "Processing files for year 2020, day 110, hour 0Processing files for year 2020, day 110, hour 1Processing files for year 2020, day 110, hour 2Processing files for year 2020, day 110, hour 3\n",
      "\n",
      "\n",
      "\n",
      "Processing files for year 2020, day 110, hour 4\n",
      "Processing files for year 2020, day 110, hour 5\n",
      "Processing files for year 2020, day 110, hour 6\n",
      "Processing files for year 2020, day 110, hour 7\n",
      "Processing files for year 2020, day 110, hour 8\n",
      "Processing files for year 2020, day 110, hour 9\n",
      "Processing files for year 2020, day 110, hour 10\n",
      "Processing files for year 2020, day 110, hour 11\n",
      "Processing files for year 2020, day 110, hour 12\n",
      "Processing files for year 2020, day 110, hour 13\n",
      "Processing files for year 2020, day 110, hour 14\n",
      "Processing files for year 2020, day 110, hour 15\n",
      "Processing files for year 2020, day 110, hour 16\n",
      "Processing files for year 2020, day 110, hour 17\n",
      "Processing files for year 2020, day 110, hour 18\n",
      "Processing files for year 2020, day 110, hour 19\n",
      "Processing files for year 2020, day 110, hour 20\n",
      "Processing files for year 2020, day 110, hour 21\n",
      "Processing files for year 2020, day 110, hour 22\n",
      "Processing files for year 2020, day 110, hour 23\n"
     ]
    },
    {
     "name": "stderr",
     "output_type": "stream",
     "text": [
      "/gpfs/fs1/home/o/oneill/mamous3/lightning/data_collection/data_retreiver_2.py:325: SerializationWarning: saving variable x with floating point data as an integer dtype without any _FillValue to use for NaNs\n",
      "  combined_fed.to_netcdf(output_file)\n",
      "/gpfs/fs1/home/o/oneill/mamous3/lightning/data_collection/data_retreiver_2.py:325: SerializationWarning: saving variable y with floating point data as an integer dtype without any _FillValue to use for NaNs\n",
      "  combined_fed.to_netcdf(output_file)\n"
     ]
    },
    {
     "name": "stdout",
     "output_type": "stream",
     "text": [
      "Saved 24-hour FED data to April2020/FED_Window_20200419.nc\n",
      "Faulty links have been saved to faulty_links.txt\n",
      "Processing: 2020-04-20\n",
      "Processing files for year 2020, day 111, hour 0Processing files for year 2020, day 111, hour 1Processing files for year 2020, day 111, hour 2Processing files for year 2020, day 111, hour 3\n",
      "\n",
      "\n",
      "\n",
      "Processing files for year 2020, day 111, hour 4\n",
      "Processing files for year 2020, day 111, hour 5\n",
      "Processing files for year 2020, day 111, hour 6\n",
      "Processing files for year 2020, day 111, hour 7\n",
      "Processing files for year 2020, day 111, hour 8\n",
      "Processing files for year 2020, day 111, hour 9\n",
      "Processing files for year 2020, day 111, hour 10\n",
      "Processing files for year 2020, day 111, hour 11\n",
      "Processing files for year 2020, day 111, hour 12\n",
      "Processing files for year 2020, day 111, hour 13\n",
      "Error downloading file https://lightningdev.umd.edu/feng_data_sharing/113_g16_glmgrid_arch/2020/2020111/OR_GLM-L2-GLMF-M3_G16_e20200420133000.nc: 404 Client Error: Not Found for url: https://lightningdev.umd.edu/feng_data_sharing/113_g16_glmgrid_arch/2020/2020111/OR_GLM-L2-GLMF-M3_G16_e20200420133000.ncError downloading file https://lightningdev.umd.edu/feng_data_sharing/113_g16_glmgrid_arch/2020/2020111/OR_GLM-L2-GLMF-M3_G16_e20200420133500.nc: 404 Client Error: Not Found for url: https://lightningdev.umd.edu/feng_data_sharing/113_g16_glmgrid_arch/2020/2020111/OR_GLM-L2-GLMF-M3_G16_e20200420133500.ncError downloading file https://lightningdev.umd.edu/feng_data_sharing/113_g16_glmgrid_arch/2020/2020111/OR_GLM-L2-GLMF-M3_G16_e20200420131000.nc: 404 Client Error: Not Found for url: https://lightningdev.umd.edu/feng_data_sharing/113_g16_glmgrid_arch/2020/2020111/OR_GLM-L2-GLMF-M3_G16_e20200420131000.ncError downloading file https://lightningdev.umd.edu/feng_data_sharing/113_g16_glmgrid_arch/2020/2020111/OR_GLM-L2-GLMF-M3_G16_e20200420134000.nc: 404 Client Error: Not Found for url: https://lightningdev.umd.edu/feng_data_sharing/113_g16_glmgrid_arch/2020/2020111/OR_GLM-L2-GLMF-M3_G16_e20200420134000.nc\n",
      "\n",
      "Error downloading file https://lightningdev.umd.edu/feng_data_sharing/113_g16_glmgrid_arch/2020/2020111/OR_GLM-L2-GLMF-M3_G16_e20200420132500.nc: 404 Client Error: Not Found for url: https://lightningdev.umd.edu/feng_data_sharing/113_g16_glmgrid_arch/2020/2020111/OR_GLM-L2-GLMF-M3_G16_e20200420132500.ncError downloading file https://lightningdev.umd.edu/feng_data_sharing/113_g16_glmgrid_arch/2020/2020111/OR_GLM-L2-GLMF-M3_G16_e20200420132000.nc: 404 Client Error: Not Found for url: https://lightningdev.umd.edu/feng_data_sharing/113_g16_glmgrid_arch/2020/2020111/OR_GLM-L2-GLMF-M3_G16_e20200420132000.ncError downloading file https://lightningdev.umd.edu/feng_data_sharing/113_g16_glmgrid_arch/2020/2020111/OR_GLM-L2-GLMF-M3_G16_e20200420131500.nc: 404 Client Error: Not Found for url: https://lightningdev.umd.edu/feng_data_sharing/113_g16_glmgrid_arch/2020/2020111/OR_GLM-L2-GLMF-M3_G16_e20200420131500.nc\n",
      "\n",
      "\n",
      "\n",
      "\n",
      "Error downloading file https://lightningdev.umd.edu/feng_data_sharing/113_g16_glmgrid_arch/2020/2020111/OR_GLM-L2-GLMF-M3_G16_e20200420135500.nc: 404 Client Error: Not Found for url: https://lightningdev.umd.edu/feng_data_sharing/113_g16_glmgrid_arch/2020/2020111/OR_GLM-L2-GLMF-M3_G16_e20200420135500.ncError downloading file https://lightningdev.umd.edu/feng_data_sharing/113_g16_glmgrid_arch/2020/2020111/OR_GLM-L2-GLMF-M3_G16_e20200420134500.nc: 404 Client Error: Not Found for url: https://lightningdev.umd.edu/feng_data_sharing/113_g16_glmgrid_arch/2020/2020111/OR_GLM-L2-GLMF-M3_G16_e20200420134500.ncError downloading file https://lightningdev.umd.edu/feng_data_sharing/113_g16_glmgrid_arch/2020/2020111/OR_GLM-L2-GLMF-M3_G16_e20200420140000.nc: 404 Client Error: Not Found for url: https://lightningdev.umd.edu/feng_data_sharing/113_g16_glmgrid_arch/2020/2020111/OR_GLM-L2-GLMF-M3_G16_e20200420140000.ncError downloading file https://lightningdev.umd.edu/feng_data_sharing/113_g16_glmgrid_arch/2020/2020111/OR_GLM-L2-GLMF-M3_G16_e20200420135000.nc: 404 Client Error: Not Found for url: https://lightningdev.umd.edu/feng_data_sharing/113_g16_glmgrid_arch/2020/2020111/OR_GLM-L2-GLMF-M3_G16_e20200420135000.nc\n",
      "\n",
      "\n",
      "\n",
      "Processing files for year 2020, day 111, hour 14\n",
      "Error downloading file https://lightningdev.umd.edu/feng_data_sharing/113_g16_glmgrid_arch/2020/2020111/OR_GLM-L2-GLMF-M3_G16_e20200420143000.nc: 404 Client Error: Not Found for url: https://lightningdev.umd.edu/feng_data_sharing/113_g16_glmgrid_arch/2020/2020111/OR_GLM-L2-GLMF-M3_G16_e20200420143000.ncError downloading file https://lightningdev.umd.edu/feng_data_sharing/113_g16_glmgrid_arch/2020/2020111/OR_GLM-L2-GLMF-M3_G16_e20200420140500.nc: 404 Client Error: Not Found for url: https://lightningdev.umd.edu/feng_data_sharing/113_g16_glmgrid_arch/2020/2020111/OR_GLM-L2-GLMF-M3_G16_e20200420140500.ncError downloading file https://lightningdev.umd.edu/feng_data_sharing/113_g16_glmgrid_arch/2020/2020111/OR_GLM-L2-GLMF-M3_G16_e20200420141000.nc: 404 Client Error: Not Found for url: https://lightningdev.umd.edu/feng_data_sharing/113_g16_glmgrid_arch/2020/2020111/OR_GLM-L2-GLMF-M3_G16_e20200420141000.nc\n",
      "Error downloading file https://lightningdev.umd.edu/feng_data_sharing/113_g16_glmgrid_arch/2020/2020111/OR_GLM-L2-GLMF-M3_G16_e20200420141500.nc: 404 Client Error: Not Found for url: https://lightningdev.umd.edu/feng_data_sharing/113_g16_glmgrid_arch/2020/2020111/OR_GLM-L2-GLMF-M3_G16_e20200420141500.ncError downloading file https://lightningdev.umd.edu/feng_data_sharing/113_g16_glmgrid_arch/2020/2020111/OR_GLM-L2-GLMF-M3_G16_e20200420142500.nc: 404 Client Error: Not Found for url: https://lightningdev.umd.edu/feng_data_sharing/113_g16_glmgrid_arch/2020/2020111/OR_GLM-L2-GLMF-M3_G16_e20200420142500.ncError downloading file https://lightningdev.umd.edu/feng_data_sharing/113_g16_glmgrid_arch/2020/2020111/OR_GLM-L2-GLMF-M3_G16_e20200420144000.nc: 404 Client Error: Not Found for url: https://lightningdev.umd.edu/feng_data_sharing/113_g16_glmgrid_arch/2020/2020111/OR_GLM-L2-GLMF-M3_G16_e20200420144000.ncError downloading file https://lightningdev.umd.edu/feng_data_sharing/113_g16_glmgrid_arch/2020/2020111/OR_GLM-L2-GLMF-M3_G16_e20200420142000.nc: 404 Client Error: Not Found for url: https://lightningdev.umd.edu/feng_data_sharing/113_g16_glmgrid_arch/2020/2020111/OR_GLM-L2-GLMF-M3_G16_e20200420142000.nc\n",
      "\n",
      "Error downloading file https://lightningdev.umd.edu/feng_data_sharing/113_g16_glmgrid_arch/2020/2020111/OR_GLM-L2-GLMF-M3_G16_e20200420143500.nc: 404 Client Error: Not Found for url: https://lightningdev.umd.edu/feng_data_sharing/113_g16_glmgrid_arch/2020/2020111/OR_GLM-L2-GLMF-M3_G16_e20200420143500.nc\n",
      "\n",
      "\n",
      "\n",
      "\n",
      "Error downloading file https://lightningdev.umd.edu/feng_data_sharing/113_g16_glmgrid_arch/2020/2020111/OR_GLM-L2-GLMF-M3_G16_e20200420144500.nc: 404 Client Error: Not Found for url: https://lightningdev.umd.edu/feng_data_sharing/113_g16_glmgrid_arch/2020/2020111/OR_GLM-L2-GLMF-M3_G16_e20200420144500.nc\n",
      "Error downloading file https://lightningdev.umd.edu/feng_data_sharing/113_g16_glmgrid_arch/2020/2020111/OR_GLM-L2-GLMF-M3_G16_e20200420145000.nc: 404 Client Error: Not Found for url: https://lightningdev.umd.edu/feng_data_sharing/113_g16_glmgrid_arch/2020/2020111/OR_GLM-L2-GLMF-M3_G16_e20200420145000.nc\n",
      "Processing files for year 2020, day 111, hour 15\n",
      "Error downloading file https://lightningdev.umd.edu/feng_data_sharing/113_g16_glmgrid_arch/2020/2020111/OR_GLM-L2-GLMF-M3_G16_e20200420160000.nc: 404 Client Error: Not Found for url: https://lightningdev.umd.edu/feng_data_sharing/113_g16_glmgrid_arch/2020/2020111/OR_GLM-L2-GLMF-M3_G16_e20200420160000.nc\n",
      "Processing files for year 2020, day 111, hour 16\n",
      "Error downloading file https://lightningdev.umd.edu/feng_data_sharing/113_g16_glmgrid_arch/2020/2020111/OR_GLM-L2-GLMF-M3_G16_e20200420164000.nc: 404 Client Error: Not Found for url: https://lightningdev.umd.edu/feng_data_sharing/113_g16_glmgrid_arch/2020/2020111/OR_GLM-L2-GLMF-M3_G16_e20200420164000.nc\n",
      "Error downloading file https://lightningdev.umd.edu/feng_data_sharing/113_g16_glmgrid_arch/2020/2020111/OR_GLM-L2-GLMF-M3_G16_e20200420163500.nc: 404 Client Error: Not Found for url: https://lightningdev.umd.edu/feng_data_sharing/113_g16_glmgrid_arch/2020/2020111/OR_GLM-L2-GLMF-M3_G16_e20200420163500.ncError downloading file https://lightningdev.umd.edu/feng_data_sharing/113_g16_glmgrid_arch/2020/2020111/OR_GLM-L2-GLMF-M3_G16_e20200420163000.nc: 404 Client Error: Not Found for url: https://lightningdev.umd.edu/feng_data_sharing/113_g16_glmgrid_arch/2020/2020111/OR_GLM-L2-GLMF-M3_G16_e20200420163000.nc\n",
      "\n",
      "Error downloading file https://lightningdev.umd.edu/feng_data_sharing/113_g16_glmgrid_arch/2020/2020111/OR_GLM-L2-GLMF-M3_G16_e20200420164500.nc: 404 Client Error: Not Found for url: https://lightningdev.umd.edu/feng_data_sharing/113_g16_glmgrid_arch/2020/2020111/OR_GLM-L2-GLMF-M3_G16_e20200420164500.nc\n",
      "Error downloading file https://lightningdev.umd.edu/feng_data_sharing/113_g16_glmgrid_arch/2020/2020111/OR_GLM-L2-GLMF-M3_G16_e20200420165000.nc: 404 Client Error: Not Found for url: https://lightningdev.umd.edu/feng_data_sharing/113_g16_glmgrid_arch/2020/2020111/OR_GLM-L2-GLMF-M3_G16_e20200420165000.nc\n",
      "Error downloading file https://lightningdev.umd.edu/feng_data_sharing/113_g16_glmgrid_arch/2020/2020111/OR_GLM-L2-GLMF-M3_G16_e20200420165500.nc: 404 Client Error: Not Found for url: https://lightningdev.umd.edu/feng_data_sharing/113_g16_glmgrid_arch/2020/2020111/OR_GLM-L2-GLMF-M3_G16_e20200420165500.nc\n",
      "Error downloading file https://lightningdev.umd.edu/feng_data_sharing/113_g16_glmgrid_arch/2020/2020111/OR_GLM-L2-GLMF-M3_G16_e20200420170000.nc: 404 Client Error: Not Found for url: https://lightningdev.umd.edu/feng_data_sharing/113_g16_glmgrid_arch/2020/2020111/OR_GLM-L2-GLMF-M3_G16_e20200420170000.nc\n",
      "Processing files for year 2020, day 111, hour 17\n",
      "Error downloading file https://lightningdev.umd.edu/feng_data_sharing/113_g16_glmgrid_arch/2020/2020111/OR_GLM-L2-GLMF-M3_G16_e20200420171000.nc: 404 Client Error: Not Found for url: https://lightningdev.umd.edu/feng_data_sharing/113_g16_glmgrid_arch/2020/2020111/OR_GLM-L2-GLMF-M3_G16_e20200420171000.nc\n",
      "Error downloading file https://lightningdev.umd.edu/feng_data_sharing/113_g16_glmgrid_arch/2020/2020111/OR_GLM-L2-GLMF-M3_G16_e20200420174000.nc: 404 Client Error: Not Found for url: https://lightningdev.umd.edu/feng_data_sharing/113_g16_glmgrid_arch/2020/2020111/OR_GLM-L2-GLMF-M3_G16_e20200420174000.ncError downloading file https://lightningdev.umd.edu/feng_data_sharing/113_g16_glmgrid_arch/2020/2020111/OR_GLM-L2-GLMF-M3_G16_e20200420172000.nc: 404 Client Error: Not Found for url: https://lightningdev.umd.edu/feng_data_sharing/113_g16_glmgrid_arch/2020/2020111/OR_GLM-L2-GLMF-M3_G16_e20200420172000.nc\n",
      "\n",
      "Error downloading file https://lightningdev.umd.edu/feng_data_sharing/113_g16_glmgrid_arch/2020/2020111/OR_GLM-L2-GLMF-M3_G16_e20200420171500.nc: 404 Client Error: Not Found for url: https://lightningdev.umd.edu/feng_data_sharing/113_g16_glmgrid_arch/2020/2020111/OR_GLM-L2-GLMF-M3_G16_e20200420171500.nc\n",
      "Processing files for year 2020, day 111, hour 18\n",
      "Error downloading file https://lightningdev.umd.edu/feng_data_sharing/113_g16_glmgrid_arch/2020/2020111/OR_GLM-L2-GLMF-M3_G16_e20200420182000.nc: 404 Client Error: Not Found for url: https://lightningdev.umd.edu/feng_data_sharing/113_g16_glmgrid_arch/2020/2020111/OR_GLM-L2-GLMF-M3_G16_e20200420182000.ncError downloading file https://lightningdev.umd.edu/feng_data_sharing/113_g16_glmgrid_arch/2020/2020111/OR_GLM-L2-GLMF-M3_G16_e20200420182500.nc: 404 Client Error: Not Found for url: https://lightningdev.umd.edu/feng_data_sharing/113_g16_glmgrid_arch/2020/2020111/OR_GLM-L2-GLMF-M3_G16_e20200420182500.nc\n",
      "Error downloading file https://lightningdev.umd.edu/feng_data_sharing/113_g16_glmgrid_arch/2020/2020111/OR_GLM-L2-GLMF-M3_G16_e20200420183000.nc: 404 Client Error: Not Found for url: https://lightningdev.umd.edu/feng_data_sharing/113_g16_glmgrid_arch/2020/2020111/OR_GLM-L2-GLMF-M3_G16_e20200420183000.ncError downloading file https://lightningdev.umd.edu/feng_data_sharing/113_g16_glmgrid_arch/2020/2020111/OR_GLM-L2-GLMF-M3_G16_e20200420181500.nc: 404 Client Error: Not Found for url: https://lightningdev.umd.edu/feng_data_sharing/113_g16_glmgrid_arch/2020/2020111/OR_GLM-L2-GLMF-M3_G16_e20200420181500.ncError downloading file https://lightningdev.umd.edu/feng_data_sharing/113_g16_glmgrid_arch/2020/2020111/OR_GLM-L2-GLMF-M3_G16_e20200420183500.nc: 404 Client Error: Not Found for url: https://lightningdev.umd.edu/feng_data_sharing/113_g16_glmgrid_arch/2020/2020111/OR_GLM-L2-GLMF-M3_G16_e20200420183500.ncError downloading file https://lightningdev.umd.edu/feng_data_sharing/113_g16_glmgrid_arch/2020/2020111/OR_GLM-L2-GLMF-M3_G16_e20200420184000.nc: 404 Client Error: Not Found for url: https://lightningdev.umd.edu/feng_data_sharing/113_g16_glmgrid_arch/2020/2020111/OR_GLM-L2-GLMF-M3_G16_e20200420184000.nc\n",
      "\n",
      "Error downloading file https://lightningdev.umd.edu/feng_data_sharing/113_g16_glmgrid_arch/2020/2020111/OR_GLM-L2-GLMF-M3_G16_e20200420181000.nc: 404 Client Error: Not Found for url: https://lightningdev.umd.edu/feng_data_sharing/113_g16_glmgrid_arch/2020/2020111/OR_GLM-L2-GLMF-M3_G16_e20200420181000.nc\n",
      "\n",
      "\n",
      "\n",
      "Error downloading file https://lightningdev.umd.edu/feng_data_sharing/113_g16_glmgrid_arch/2020/2020111/OR_GLM-L2-GLMF-M3_G16_e20200420184500.nc: 404 Client Error: Not Found for url: https://lightningdev.umd.edu/feng_data_sharing/113_g16_glmgrid_arch/2020/2020111/OR_GLM-L2-GLMF-M3_G16_e20200420184500.nc\n",
      "Error downloading file https://lightningdev.umd.edu/feng_data_sharing/113_g16_glmgrid_arch/2020/2020111/OR_GLM-L2-GLMF-M3_G16_e20200420190000.nc: 404 Client Error: Not Found for url: https://lightningdev.umd.edu/feng_data_sharing/113_g16_glmgrid_arch/2020/2020111/OR_GLM-L2-GLMF-M3_G16_e20200420190000.ncError downloading file https://lightningdev.umd.edu/feng_data_sharing/113_g16_glmgrid_arch/2020/2020111/OR_GLM-L2-GLMF-M3_G16_e20200420185000.nc: 404 Client Error: Not Found for url: https://lightningdev.umd.edu/feng_data_sharing/113_g16_glmgrid_arch/2020/2020111/OR_GLM-L2-GLMF-M3_G16_e20200420185000.nc\n",
      "\n",
      "Error downloading file https://lightningdev.umd.edu/feng_data_sharing/113_g16_glmgrid_arch/2020/2020111/OR_GLM-L2-GLMF-M3_G16_e20200420185500.nc: 404 Client Error: Not Found for url: https://lightningdev.umd.edu/feng_data_sharing/113_g16_glmgrid_arch/2020/2020111/OR_GLM-L2-GLMF-M3_G16_e20200420185500.nc\n",
      "Processing files for year 2020, day 111, hour 19\n",
      "Error downloading file https://lightningdev.umd.edu/feng_data_sharing/113_g16_glmgrid_arch/2020/2020111/OR_GLM-L2-GLMF-M3_G16_e20200420191000.nc: 404 Client Error: Not Found for url: https://lightningdev.umd.edu/feng_data_sharing/113_g16_glmgrid_arch/2020/2020111/OR_GLM-L2-GLMF-M3_G16_e20200420191000.nc\n",
      "Error downloading file https://lightningdev.umd.edu/feng_data_sharing/113_g16_glmgrid_arch/2020/2020111/OR_GLM-L2-GLMF-M3_G16_e20200420191500.nc: 404 Client Error: Not Found for url: https://lightningdev.umd.edu/feng_data_sharing/113_g16_glmgrid_arch/2020/2020111/OR_GLM-L2-GLMF-M3_G16_e20200420191500.nc\n",
      "Processing files for year 2020, day 111, hour 20\n",
      "Processing files for year 2020, day 111, hour 21\n",
      "Processing files for year 2020, day 111, hour 22\n",
      "Processing files for year 2020, day 111, hour 23\n"
     ]
    },
    {
     "name": "stderr",
     "output_type": "stream",
     "text": [
      "/gpfs/fs1/home/o/oneill/mamous3/lightning/data_collection/data_retreiver_2.py:325: SerializationWarning: saving variable x with floating point data as an integer dtype without any _FillValue to use for NaNs\n",
      "  combined_fed.to_netcdf(output_file)\n",
      "/gpfs/fs1/home/o/oneill/mamous3/lightning/data_collection/data_retreiver_2.py:325: SerializationWarning: saving variable y with floating point data as an integer dtype without any _FillValue to use for NaNs\n",
      "  combined_fed.to_netcdf(output_file)\n"
     ]
    },
    {
     "name": "stdout",
     "output_type": "stream",
     "text": [
      "Saved 24-hour FED data to April2020/FED_Window_20200420.nc\n",
      "Faulty links have been saved to faulty_links.txt\n",
      "Processing: 2020-04-21\n",
      "Processing files for year 2020, day 112, hour 0Processing files for year 2020, day 112, hour 2Processing files for year 2020, day 112, hour 1Processing files for year 2020, day 112, hour 3\n",
      "\n",
      "\n",
      "\n",
      "Processing files for year 2020, day 112, hour 4\n",
      "Processing files for year 2020, day 112, hour 5\n",
      "Processing files for year 2020, day 112, hour 6\n",
      "Processing files for year 2020, day 112, hour 7\n",
      "Processing files for year 2020, day 112, hour 8\n",
      "Processing files for year 2020, day 112, hour 9\n",
      "Processing files for year 2020, day 112, hour 10\n",
      "Processing files for year 2020, day 112, hour 11\n",
      "Processing files for year 2020, day 112, hour 12\n",
      "Processing files for year 2020, day 112, hour 13\n",
      "Processing files for year 2020, day 112, hour 14\n",
      "Processing files for year 2020, day 112, hour 15\n",
      "Processing files for year 2020, day 112, hour 16\n",
      "Processing files for year 2020, day 112, hour 17\n",
      "Processing files for year 2020, day 112, hour 18\n",
      "Processing files for year 2020, day 112, hour 19\n",
      "Processing files for year 2020, day 112, hour 20\n",
      "Processing files for year 2020, day 112, hour 21\n",
      "Processing files for year 2020, day 112, hour 22\n",
      "Processing files for year 2020, day 112, hour 23\n"
     ]
    },
    {
     "name": "stderr",
     "output_type": "stream",
     "text": [
      "/gpfs/fs1/home/o/oneill/mamous3/lightning/data_collection/data_retreiver_2.py:325: SerializationWarning: saving variable x with floating point data as an integer dtype without any _FillValue to use for NaNs\n",
      "  combined_fed.to_netcdf(output_file)\n",
      "/gpfs/fs1/home/o/oneill/mamous3/lightning/data_collection/data_retreiver_2.py:325: SerializationWarning: saving variable y with floating point data as an integer dtype without any _FillValue to use for NaNs\n",
      "  combined_fed.to_netcdf(output_file)\n"
     ]
    },
    {
     "name": "stdout",
     "output_type": "stream",
     "text": [
      "Saved 24-hour FED data to April2020/FED_Window_20200421.nc\n",
      "Faulty links have been saved to faulty_links.txt\n",
      "Processing: 2020-04-22\n",
      "Processing files for year 2020, day 113, hour 0Processing files for year 2020, day 113, hour 2Processing files for year 2020, day 113, hour 3Processing files for year 2020, day 113, hour 1\n",
      "\n",
      "\n",
      "\n",
      "Processing files for year 2020, day 113, hour 4\n",
      "Processing files for year 2020, day 113, hour 5\n",
      "Processing files for year 2020, day 113, hour 6\n",
      "Processing files for year 2020, day 113, hour 7\n",
      "Processing files for year 2020, day 113, hour 8\n",
      "Processing files for year 2020, day 113, hour 9\n",
      "Processing files for year 2020, day 113, hour 10\n",
      "Processing files for year 2020, day 113, hour 11\n",
      "Processing files for year 2020, day 113, hour 12\n",
      "Processing files for year 2020, day 113, hour 13\n",
      "Processing files for year 2020, day 113, hour 14\n",
      "Processing files for year 2020, day 113, hour 15\n",
      "Processing files for year 2020, day 113, hour 16\n",
      "Processing files for year 2020, day 113, hour 17\n",
      "Processing files for year 2020, day 113, hour 18\n",
      "Processing files for year 2020, day 113, hour 19\n",
      "Processing files for year 2020, day 113, hour 20\n",
      "Processing files for year 2020, day 113, hour 21\n",
      "Processing files for year 2020, day 113, hour 22\n",
      "Processing files for year 2020, day 113, hour 23\n"
     ]
    },
    {
     "name": "stderr",
     "output_type": "stream",
     "text": [
      "/gpfs/fs1/home/o/oneill/mamous3/lightning/data_collection/data_retreiver_2.py:325: SerializationWarning: saving variable x with floating point data as an integer dtype without any _FillValue to use for NaNs\n",
      "  combined_fed.to_netcdf(output_file)\n",
      "/gpfs/fs1/home/o/oneill/mamous3/lightning/data_collection/data_retreiver_2.py:325: SerializationWarning: saving variable y with floating point data as an integer dtype without any _FillValue to use for NaNs\n",
      "  combined_fed.to_netcdf(output_file)\n"
     ]
    },
    {
     "name": "stdout",
     "output_type": "stream",
     "text": [
      "Saved 24-hour FED data to April2020/FED_Window_20200422.nc\n",
      "Faulty links have been saved to faulty_links.txt\n",
      "Processing: 2020-04-23\n",
      "Processing files for year 2020, day 114, hour 0Processing files for year 2020, day 114, hour 2Processing files for year 2020, day 114, hour 1Processing files for year 2020, day 114, hour 3\n",
      "\n",
      "\n",
      "\n",
      "Processing files for year 2020, day 114, hour 4\n",
      "Processing files for year 2020, day 114, hour 5\n",
      "Processing files for year 2020, day 114, hour 6\n",
      "Processing files for year 2020, day 114, hour 7\n",
      "Processing files for year 2020, day 114, hour 8\n",
      "Processing files for year 2020, day 114, hour 9\n",
      "Processing files for year 2020, day 114, hour 10\n",
      "Processing files for year 2020, day 114, hour 11\n",
      "Processing files for year 2020, day 114, hour 12\n",
      "Processing files for year 2020, day 114, hour 13\n",
      "Processing files for year 2020, day 114, hour 14\n",
      "Processing files for year 2020, day 114, hour 15\n",
      "Processing files for year 2020, day 114, hour 16\n",
      "Processing files for year 2020, day 114, hour 17\n",
      "Processing files for year 2020, day 114, hour 18\n",
      "Processing files for year 2020, day 114, hour 19\n",
      "Processing files for year 2020, day 114, hour 20\n",
      "Processing files for year 2020, day 114, hour 21\n",
      "Processing files for year 2020, day 114, hour 22\n",
      "Processing files for year 2020, day 114, hour 23\n"
     ]
    },
    {
     "name": "stderr",
     "output_type": "stream",
     "text": [
      "/gpfs/fs1/home/o/oneill/mamous3/lightning/data_collection/data_retreiver_2.py:325: SerializationWarning: saving variable x with floating point data as an integer dtype without any _FillValue to use for NaNs\n",
      "  combined_fed.to_netcdf(output_file)\n",
      "/gpfs/fs1/home/o/oneill/mamous3/lightning/data_collection/data_retreiver_2.py:325: SerializationWarning: saving variable y with floating point data as an integer dtype without any _FillValue to use for NaNs\n",
      "  combined_fed.to_netcdf(output_file)\n"
     ]
    },
    {
     "name": "stdout",
     "output_type": "stream",
     "text": [
      "Saved 24-hour FED data to April2020/FED_Window_20200423.nc\n",
      "Faulty links have been saved to faulty_links.txt\n",
      "Processing: 2020-04-24\n",
      "Processing files for year 2020, day 115, hour 2Processing files for year 2020, day 115, hour 0Processing files for year 2020, day 115, hour 1Processing files for year 2020, day 115, hour 3\n",
      "\n",
      "\n",
      "\n",
      "Processing files for year 2020, day 115, hour 4\n",
      "Processing files for year 2020, day 115, hour 5\n",
      "Processing files for year 2020, day 115, hour 6\n",
      "Processing files for year 2020, day 115, hour 7\n",
      "Processing files for year 2020, day 115, hour 8\n",
      "Processing files for year 2020, day 115, hour 9\n",
      "Processing files for year 2020, day 115, hour 10\n",
      "Processing files for year 2020, day 115, hour 11\n",
      "Processing files for year 2020, day 115, hour 12\n",
      "Processing files for year 2020, day 115, hour 13\n",
      "Processing files for year 2020, day 115, hour 14\n",
      "Processing files for year 2020, day 115, hour 15\n",
      "Processing files for year 2020, day 115, hour 16\n",
      "Processing files for year 2020, day 115, hour 17\n",
      "Processing files for year 2020, day 115, hour 18\n",
      "Processing files for year 2020, day 115, hour 19\n",
      "Processing files for year 2020, day 115, hour 20\n",
      "Processing files for year 2020, day 115, hour 21\n",
      "Processing files for year 2020, day 115, hour 22\n",
      "Processing files for year 2020, day 115, hour 23\n"
     ]
    },
    {
     "name": "stderr",
     "output_type": "stream",
     "text": [
      "/gpfs/fs1/home/o/oneill/mamous3/lightning/data_collection/data_retreiver_2.py:325: SerializationWarning: saving variable x with floating point data as an integer dtype without any _FillValue to use for NaNs\n",
      "  combined_fed.to_netcdf(output_file)\n",
      "/gpfs/fs1/home/o/oneill/mamous3/lightning/data_collection/data_retreiver_2.py:325: SerializationWarning: saving variable y with floating point data as an integer dtype without any _FillValue to use for NaNs\n",
      "  combined_fed.to_netcdf(output_file)\n"
     ]
    },
    {
     "name": "stdout",
     "output_type": "stream",
     "text": [
      "Saved 24-hour FED data to April2020/FED_Window_20200424.nc\n",
      "Faulty links have been saved to faulty_links.txt\n",
      "Processing: 2020-04-25\n",
      "Processing files for year 2020, day 116, hour 0Processing files for year 2020, day 116, hour 1Processing files for year 2020, day 116, hour 3Processing files for year 2020, day 116, hour 2\n",
      "\n",
      "\n",
      "\n",
      "Processing files for year 2020, day 116, hour 4\n",
      "Processing files for year 2020, day 116, hour 5\n",
      "Processing files for year 2020, day 116, hour 6\n",
      "Processing files for year 2020, day 116, hour 7\n",
      "Processing files for year 2020, day 116, hour 8\n",
      "Processing files for year 2020, day 116, hour 9\n",
      "Processing files for year 2020, day 116, hour 10\n",
      "Processing files for year 2020, day 116, hour 11\n",
      "Processing files for year 2020, day 116, hour 12\n",
      "Processing files for year 2020, day 116, hour 13\n",
      "Processing files for year 2020, day 116, hour 14\n",
      "Processing files for year 2020, day 116, hour 15\n",
      "Processing files for year 2020, day 116, hour 16\n",
      "Processing files for year 2020, day 116, hour 17\n",
      "Processing files for year 2020, day 116, hour 18\n",
      "Processing files for year 2020, day 116, hour 19\n",
      "Processing files for year 2020, day 116, hour 20\n",
      "Processing files for year 2020, day 116, hour 21\n",
      "Processing files for year 2020, day 116, hour 22\n",
      "Processing files for year 2020, day 116, hour 23\n"
     ]
    },
    {
     "name": "stderr",
     "output_type": "stream",
     "text": [
      "/gpfs/fs1/home/o/oneill/mamous3/lightning/data_collection/data_retreiver_2.py:325: SerializationWarning: saving variable x with floating point data as an integer dtype without any _FillValue to use for NaNs\n",
      "  combined_fed.to_netcdf(output_file)\n",
      "/gpfs/fs1/home/o/oneill/mamous3/lightning/data_collection/data_retreiver_2.py:325: SerializationWarning: saving variable y with floating point data as an integer dtype without any _FillValue to use for NaNs\n",
      "  combined_fed.to_netcdf(output_file)\n"
     ]
    },
    {
     "name": "stdout",
     "output_type": "stream",
     "text": [
      "Saved 24-hour FED data to April2020/FED_Window_20200425.nc\n",
      "Faulty links have been saved to faulty_links.txt\n",
      "Processing: 2020-04-26\n",
      "Processing files for year 2020, day 117, hour 0Processing files for year 2020, day 117, hour 1Processing files for year 2020, day 117, hour 2Processing files for year 2020, day 117, hour 3\n",
      "\n",
      "\n",
      "\n",
      "Processing files for year 2020, day 117, hour 4\n",
      "Processing files for year 2020, day 117, hour 5\n",
      "Processing files for year 2020, day 117, hour 6\n",
      "Processing files for year 2020, day 117, hour 7\n",
      "Processing files for year 2020, day 117, hour 8\n",
      "Processing files for year 2020, day 117, hour 9\n",
      "Processing files for year 2020, day 117, hour 10\n",
      "Processing files for year 2020, day 117, hour 11\n",
      "Processing files for year 2020, day 117, hour 12\n",
      "Processing files for year 2020, day 117, hour 13\n",
      "Processing files for year 2020, day 117, hour 14\n",
      "Processing files for year 2020, day 117, hour 15\n",
      "Processing files for year 2020, day 117, hour 16\n",
      "Processing files for year 2020, day 117, hour 17\n",
      "Processing files for year 2020, day 117, hour 18\n",
      "Processing files for year 2020, day 117, hour 19\n",
      "Processing files for year 2020, day 117, hour 20\n",
      "Processing files for year 2020, day 117, hour 21\n",
      "Processing files for year 2020, day 117, hour 22\n",
      "Processing files for year 2020, day 117, hour 23\n"
     ]
    },
    {
     "name": "stderr",
     "output_type": "stream",
     "text": [
      "/gpfs/fs1/home/o/oneill/mamous3/lightning/data_collection/data_retreiver_2.py:325: SerializationWarning: saving variable x with floating point data as an integer dtype without any _FillValue to use for NaNs\n",
      "  combined_fed.to_netcdf(output_file)\n",
      "/gpfs/fs1/home/o/oneill/mamous3/lightning/data_collection/data_retreiver_2.py:325: SerializationWarning: saving variable y with floating point data as an integer dtype without any _FillValue to use for NaNs\n",
      "  combined_fed.to_netcdf(output_file)\n"
     ]
    },
    {
     "name": "stdout",
     "output_type": "stream",
     "text": [
      "Saved 24-hour FED data to April2020/FED_Window_20200426.nc\n",
      "Faulty links have been saved to faulty_links.txt\n",
      "Processing: 2020-04-27\n",
      "Processing files for year 2020, day 118, hour 1Processing files for year 2020, day 118, hour 0Processing files for year 2020, day 118, hour 3Processing files for year 2020, day 118, hour 2\n",
      "\n",
      "\n",
      "\n",
      "Processing files for year 2020, day 118, hour 4\n",
      "Processing files for year 2020, day 118, hour 5\n",
      "Processing files for year 2020, day 118, hour 6\n",
      "Processing files for year 2020, day 118, hour 7\n",
      "Processing files for year 2020, day 118, hour 8\n",
      "Processing files for year 2020, day 118, hour 9\n",
      "Processing files for year 2020, day 118, hour 10\n",
      "Processing files for year 2020, day 118, hour 11\n",
      "Processing files for year 2020, day 118, hour 12\n",
      "Processing files for year 2020, day 118, hour 13\n",
      "Processing files for year 2020, day 118, hour 14\n",
      "Processing files for year 2020, day 118, hour 15\n",
      "Processing files for year 2020, day 118, hour 16\n",
      "Processing files for year 2020, day 118, hour 17\n",
      "Processing files for year 2020, day 118, hour 18\n",
      "Processing files for year 2020, day 118, hour 19\n",
      "Processing files for year 2020, day 118, hour 20\n",
      "Processing files for year 2020, day 118, hour 21\n",
      "Processing files for year 2020, day 118, hour 22\n",
      "Processing files for year 2020, day 118, hour 23\n"
     ]
    },
    {
     "name": "stderr",
     "output_type": "stream",
     "text": [
      "/gpfs/fs1/home/o/oneill/mamous3/lightning/data_collection/data_retreiver_2.py:325: SerializationWarning: saving variable x with floating point data as an integer dtype without any _FillValue to use for NaNs\n",
      "  combined_fed.to_netcdf(output_file)\n",
      "/gpfs/fs1/home/o/oneill/mamous3/lightning/data_collection/data_retreiver_2.py:325: SerializationWarning: saving variable y with floating point data as an integer dtype without any _FillValue to use for NaNs\n",
      "  combined_fed.to_netcdf(output_file)\n"
     ]
    },
    {
     "name": "stdout",
     "output_type": "stream",
     "text": [
      "Saved 24-hour FED data to April2020/FED_Window_20200427.nc\n",
      "Faulty links have been saved to faulty_links.txt\n",
      "Processing: 2020-04-28\n",
      "Processing files for year 2020, day 119, hour 0Processing files for year 2020, day 119, hour 1Processing files for year 2020, day 119, hour 2Processing files for year 2020, day 119, hour 3\n",
      "\n",
      "\n",
      "\n",
      "Processing files for year 2020, day 119, hour 4\n",
      "Processing files for year 2020, day 119, hour 5\n",
      "Processing files for year 2020, day 119, hour 6\n",
      "Processing files for year 2020, day 119, hour 7\n",
      "Processing files for year 2020, day 119, hour 8\n",
      "Processing files for year 2020, day 119, hour 9\n",
      "Processing files for year 2020, day 119, hour 10\n",
      "Processing files for year 2020, day 119, hour 11\n",
      "Processing files for year 2020, day 119, hour 12\n",
      "Processing files for year 2020, day 119, hour 13\n",
      "Processing files for year 2020, day 119, hour 14\n",
      "Processing files for year 2020, day 119, hour 15\n",
      "Processing files for year 2020, day 119, hour 16\n",
      "Processing files for year 2020, day 119, hour 17\n",
      "Processing files for year 2020, day 119, hour 18\n",
      "Processing files for year 2020, day 119, hour 19\n",
      "Processing files for year 2020, day 119, hour 20\n",
      "Processing files for year 2020, day 119, hour 21\n",
      "Processing files for year 2020, day 119, hour 22\n",
      "Processing files for year 2020, day 119, hour 23\n"
     ]
    },
    {
     "name": "stderr",
     "output_type": "stream",
     "text": [
      "/gpfs/fs1/home/o/oneill/mamous3/lightning/data_collection/data_retreiver_2.py:325: SerializationWarning: saving variable x with floating point data as an integer dtype without any _FillValue to use for NaNs\n",
      "  combined_fed.to_netcdf(output_file)\n",
      "/gpfs/fs1/home/o/oneill/mamous3/lightning/data_collection/data_retreiver_2.py:325: SerializationWarning: saving variable y with floating point data as an integer dtype without any _FillValue to use for NaNs\n",
      "  combined_fed.to_netcdf(output_file)\n"
     ]
    },
    {
     "name": "stdout",
     "output_type": "stream",
     "text": [
      "Saved 24-hour FED data to April2020/FED_Window_20200428.nc\n",
      "Faulty links have been saved to faulty_links.txt\n",
      "Processing: 2020-04-29\n",
      "Processing files for year 2020, day 120, hour 2Processing files for year 2020, day 120, hour 0Processing files for year 2020, day 120, hour 3Processing files for year 2020, day 120, hour 1\n",
      "\n",
      "\n",
      "\n",
      "Processing files for year 2020, day 120, hour 4\n",
      "Processing files for year 2020, day 120, hour 5\n",
      "Processing files for year 2020, day 120, hour 6\n",
      "Processing files for year 2020, day 120, hour 7\n",
      "Processing files for year 2020, day 120, hour 8\n",
      "Processing files for year 2020, day 120, hour 9\n",
      "Processing files for year 2020, day 120, hour 10\n",
      "Processing files for year 2020, day 120, hour 11\n",
      "Processing files for year 2020, day 120, hour 12\n",
      "Processing files for year 2020, day 120, hour 13\n",
      "Processing files for year 2020, day 120, hour 14\n",
      "Processing files for year 2020, day 120, hour 15\n",
      "Processing files for year 2020, day 120, hour 16\n",
      "Processing files for year 2020, day 120, hour 17\n",
      "Processing files for year 2020, day 120, hour 18\n",
      "Processing files for year 2020, day 120, hour 19\n",
      "Processing files for year 2020, day 120, hour 20\n",
      "Processing files for year 2020, day 120, hour 21\n",
      "Processing files for year 2020, day 120, hour 22\n",
      "Processing files for year 2020, day 120, hour 23\n"
     ]
    },
    {
     "name": "stderr",
     "output_type": "stream",
     "text": [
      "/gpfs/fs1/home/o/oneill/mamous3/lightning/data_collection/data_retreiver_2.py:325: SerializationWarning: saving variable x with floating point data as an integer dtype without any _FillValue to use for NaNs\n",
      "  combined_fed.to_netcdf(output_file)\n",
      "/gpfs/fs1/home/o/oneill/mamous3/lightning/data_collection/data_retreiver_2.py:325: SerializationWarning: saving variable y with floating point data as an integer dtype without any _FillValue to use for NaNs\n",
      "  combined_fed.to_netcdf(output_file)\n"
     ]
    },
    {
     "name": "stdout",
     "output_type": "stream",
     "text": [
      "Saved 24-hour FED data to April2020/FED_Window_20200429.nc\n",
      "Faulty links have been saved to faulty_links.txt\n",
      "Processing: 2020-04-30\n",
      "Processing files for year 2020, day 121, hour 0Processing files for year 2020, day 121, hour 3Processing files for year 2020, day 121, hour 1Processing files for year 2020, day 121, hour 2\n",
      "\n",
      "\n",
      "\n",
      "Processing files for year 2020, day 121, hour 4\n",
      "Processing files for year 2020, day 121, hour 5\n",
      "Processing files for year 2020, day 121, hour 6\n",
      "Processing files for year 2020, day 121, hour 7\n",
      "Processing files for year 2020, day 121, hour 8\n",
      "Processing files for year 2020, day 121, hour 9\n",
      "Processing files for year 2020, day 121, hour 10\n",
      "Processing files for year 2020, day 121, hour 11\n",
      "Processing files for year 2020, day 121, hour 12\n",
      "Processing files for year 2020, day 121, hour 13\n",
      "Processing files for year 2020, day 121, hour 14\n",
      "Processing files for year 2020, day 121, hour 15\n",
      "Processing files for year 2020, day 121, hour 16\n",
      "Processing files for year 2020, day 121, hour 17\n",
      "Processing files for year 2020, day 121, hour 18\n",
      "Processing files for year 2020, day 121, hour 19\n",
      "Processing files for year 2020, day 121, hour 20\n",
      "Processing files for year 2020, day 121, hour 21\n",
      "Processing files for year 2020, day 121, hour 22\n",
      "Processing files for year 2020, day 121, hour 23\n"
     ]
    },
    {
     "name": "stderr",
     "output_type": "stream",
     "text": [
      "/gpfs/fs1/home/o/oneill/mamous3/lightning/data_collection/data_retreiver_2.py:325: SerializationWarning: saving variable x with floating point data as an integer dtype without any _FillValue to use for NaNs\n",
      "  combined_fed.to_netcdf(output_file)\n",
      "/gpfs/fs1/home/o/oneill/mamous3/lightning/data_collection/data_retreiver_2.py:325: SerializationWarning: saving variable y with floating point data as an integer dtype without any _FillValue to use for NaNs\n",
      "  combined_fed.to_netcdf(output_file)\n"
     ]
    },
    {
     "name": "stdout",
     "output_type": "stream",
     "text": [
      "Saved 24-hour FED data to April2020/FED_Window_20200430.nc\n",
      "Faulty links have been saved to faulty_links.txt\n",
      "Finished processing all days!\n"
     ]
    }
   ],
   "source": [
    "start_date = datetime(2020, 4, 1)\n",
    "end_date = datetime(2020, 4, 30)\n",
    "daily_files = []\n",
    "\n",
    "def process_day(date):\n",
    "    \"\"\"Processes a single day's data.\"\"\"\n",
    "    output_file = f\"{date.strftime('%B%Y')}/FED_Window_{date.strftime('%Y%m%d')}.nc\"\n",
    "    print(f\"Processing: {date.strftime('%Y-%m-%d')}\")\n",
    "    retrieve_goes_glmf(date, output_file)  # Process daily data\n",
    "    return output_file\n",
    "\n",
    "for i in range((end_date - start_date).days + 1):\n",
    "    daily_files.append(process_day(start_date + timedelta(days=i)))\n",
    "\n",
    "print(\"Finished processing all days!\")\n",
    "\n"
   ]
  },
  {
   "cell_type": "markdown",
   "metadata": {},
   "source": [
    "After loading the data, we will check the quality. First, ensure there are no missing days or hours in the dataset. Then, add latitude and longitude to the data by using calc lat lon. Finally, slice the dataset into 4 regions, SW, NW, SE, and NE CONUS. "
   ]
  },
  {
   "cell_type": "code",
   "execution_count": null,
   "metadata": {},
   "outputs": [],
   "source": [
    "from data_retreiver_2 import calc_latlon, get_xy_from_latlon, parallel_interp\n",
    "\n",
    "april_fed = []\n",
    "for file in daily_files:\n",
    "    ds = xr.open_dataset(daily_files[0])\n",
    "    ds = calc_latlon(ds)\n",
    "    ds.sortby('time')\n",
    "    april_fed.append(ds)\n",
    "    ds.close\n",
    "\n",
    "april_fed_total = xr.concat(april_fed,'time')"
   ]
  },
  {
   "cell_type": "markdown",
   "metadata": {},
   "source": [
    "Next, create three different visuals for each region. First, do a 24 hr animation of the day with the highest FED. Then, do a 30 day animation with a heat map of lightning for each day. Finally, make a heat map for the total month."
   ]
  },
  {
   "cell_type": "code",
   "execution_count": null,
   "metadata": {},
   "outputs": [],
   "source": []
  },
  {
   "cell_type": "markdown",
   "metadata": {},
   "source": [
    "Save these figures for later.\n",
    "\n",
    "At the moment, we have temporally smoothed the data, but now we want to spatially smooth the data in order to make meaningful comparisons with lower resolution datasets (ERA5). \n",
    "\n",
    "Run parallel_interp on each day of the data. Try out parallelism for this as well, keep worker numbers low though."
   ]
  },
  {
   "cell_type": "code",
   "execution_count": null,
   "metadata": {},
   "outputs": [],
   "source": []
  },
  {
   "cell_type": "markdown",
   "metadata": {},
   "source": [
    "Repeat the visualization process, and compare to previous figures. \n",
    "\n",
    "We have now visually confirmed the quality of the data.\n"
   ]
  },
  {
   "cell_type": "code",
   "execution_count": null,
   "metadata": {},
   "outputs": [],
   "source": []
  },
  {
   "cell_type": "markdown",
   "metadata": {},
   "source": [
    "Now, we will introduce the environmental variables to our EDA. Use retrieve ABI to download ABI data variables of interest for the month. You can use parallel processing again for this, 10-16 workers max. Verify the data in the same way we verified the lightning data.\n",
    "\n",
    "Getting ERA5 Data is simple and relatively fast, so use the cdsapi and retrieve it for this month.\n",
    "\n",
    "We can do some simple checks for the ERA5 data, but it is likely that there are no direct issues as the ECMFW is a trusted organization responsible for this reanalysis data."
   ]
  },
  {
   "cell_type": "code",
   "execution_count": null,
   "metadata": {},
   "outputs": [],
   "source": []
  },
  {
   "cell_type": "markdown",
   "metadata": {},
   "source": [
    "Now we will begin correlation analysis. How do we do this? By using xarray’s .corr which measures the linear pearson correlation coefficient for datasets across a specified dimension (i. e. time, space, etc)\n",
    "Note: Make sure to cite parameterizations.\n",
    "\n",
    "\n",
    "Perform correlational analysis spatially, temporally, and spatiotemporally\n",
    "\n",
    "* Lightning vs Individual Controls\n",
    "* Individual Control vs Individual Controls\n",
    "* Lightning vs Parameterizations \n",
    "* Parameterizations vs Individual Controls\n",
    "* Parameterizations vs Parameterizations"
   ]
  },
  {
   "cell_type": "code",
   "execution_count": null,
   "metadata": {},
   "outputs": [],
   "source": []
  }
 ],
 "metadata": {
  "kernelspec": {
   "display_name": "lightning",
   "language": "python",
   "name": "python3"
  },
  "language_info": {
   "codemirror_mode": {
    "name": "ipython",
    "version": 3
   },
   "file_extension": ".py",
   "mimetype": "text/x-python",
   "name": "python",
   "nbconvert_exporter": "python",
   "pygments_lexer": "ipython3",
   "version": "3.11.5"
  }
 },
 "nbformat": 4,
 "nbformat_minor": 4
}
